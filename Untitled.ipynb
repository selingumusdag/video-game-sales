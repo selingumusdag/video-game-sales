{
 "cells": [
  {
   "cell_type": "code",
   "execution_count": null,
   "metadata": {},
   "outputs": [],
   "source": [
    "import pandas as pd\n",
    "import numpy as np\n",
    "games=pd.read_csv('data/vgsales.csv')\n",
    "games.info()\n",
    "games.head()"
   ]
  },
  {
   "cell_type": "code",
   "execution_count": null,
   "metadata": {},
   "outputs": [],
   "source": [
    "games['Year']=games['Year'].fillna(0)\n",
    "games['Year']=games['Year'].astype(int)\n",
    "games.head()"
   ]
  },
  {
   "cell_type": "code",
   "execution_count": null,
   "metadata": {},
   "outputs": [],
   "source": [
    "def categorized_sales(sale,*col):\n",
    "    good_sale=sum(col)*0.0070\n",
    "    average_sale=sum(col)*0.0040\n",
    "    print(good_sale)\n",
    "    if sale>=good_sale:\n",
    "        return 1\n",
    "    elif sale>=average_sale:\n",
    "        return 2\n",
    "    else:\n",
    "        return 3"
   ]
  },
  {
   "cell_type": "code",
   "execution_count": null,
   "metadata": {},
   "outputs": [],
   "source": [
    "games['NA_SaleGroup']=games['NA_Sales'].apply(categorized_sales,\"games['NA_Sales']\")\n",
    "#games['EU_SaleGroup']=games['EU_Sales'].apply(categorized_sales,games['EU_Sales'])\n",
    "#games['JP_SaleGroup']=games['JP_Sales'].apply(categorized_sales)\n",
    "#games['Other_SaleGroup']=games['Other_Sales'].apply(categorized_sales)\n",
    "display(games.head())"
   ]
  }
 ],
 "metadata": {
  "kernelspec": {
   "display_name": "Python 3",
   "language": "python",
   "name": "python3"
  },
  "language_info": {
   "codemirror_mode": {
    "name": "ipython",
    "version": 3
   },
   "file_extension": ".py",
   "mimetype": "text/x-python",
   "name": "python",
   "nbconvert_exporter": "python",
   "pygments_lexer": "ipython3",
   "version": "3.8.0"
  }
 },
 "nbformat": 4,
 "nbformat_minor": 4
}
